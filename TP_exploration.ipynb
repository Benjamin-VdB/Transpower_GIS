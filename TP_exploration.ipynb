{
 "cells": [
  {
   "cell_type": "code",
   "execution_count": 24,
   "metadata": {},
   "outputs": [],
   "source": [
    "from arcgis.gis import GIS\n",
    "import pandas as pd"
   ]
  },
  {
   "cell_type": "code",
   "execution_count": 2,
   "metadata": {},
   "outputs": [
    {
     "data": {
      "application/vnd.jupyter.widget-view+json": {
       "model_id": "5a38c8fb344b44c0a8084e4b10563708",
       "version_major": 2,
       "version_minor": 0
      },
      "text/plain": [
       "MapView(layout=Layout(height='400px', width='100%'))"
      ]
     },
     "metadata": {},
     "output_type": "display_data"
    },
    {
     "data": {
      "text/html": [
       "<div class=\"map-static-img-preview-6bc4bdfe-bac9-4d05-819a-6ae2cde44c34\"><img src=\"\"></img></div>"
      ],
      "text/plain": [
       "<IPython.core.display.HTML object>"
      ]
     },
     "metadata": {},
     "output_type": "display_data"
    }
   ],
   "source": [
    "# login to ARCGIS online and display a map\n",
    "gis = GIS()\n",
    "map1 = gis.map()\n",
    "map1"
   ]
  },
  {
   "cell_type": "code",
   "execution_count": 50,
   "metadata": {},
   "outputs": [
    {
     "name": "stderr",
     "output_type": "stream",
     "text": [
      "Profile ben.vandenbroucke does not have a password on file through keyring. If you are expecting this behavior (PKI or IWA authentication, entering password through run-time prompt, etc.), please ignore this message. If you would like to store your password in the ben.vandenbroucke profile, run GIS(profile = 'ben.vandenbroucke', password = ...). See the API doc for more details. (http://bit.ly/2CK2wG8)\n"
     ]
    },
    {
     "data": {
      "text/html": [
       "GIS @ <a href=\"https://www.arcgis.com\">https://www.arcgis.com</a>"
      ],
      "text/plain": [
       "GIS @ https://www.arcgis.com version:8.1"
      ]
     },
     "execution_count": 50,
     "metadata": {},
     "output_type": "execute_result"
    }
   ],
   "source": [
    "GIS(profile=\"ben.vandenbroucke\")"
   ]
  },
  {
   "cell_type": "code",
   "execution_count": 20,
   "metadata": {},
   "outputs": [],
   "source": [
    "gis.map?"
   ]
  },
  {
   "cell_type": "code",
   "execution_count": 3,
   "metadata": {},
   "outputs": [],
   "source": [
    "# adding transpower layers for sites and lines\n",
    "map1.add_layer({\"type\":\"FeatureLayer\", \n",
    "                \"url\" : \"https://services3.arcgis.com/AkUq3zcWf7TVqyR9/arcgis/rest/services/TransmissionLines/FeatureServer/0/query?outFields=*&where=1%3D1\"})\n",
    "map1.add_layer({\"type\":\"FeatureLayer\", \n",
    "                \"url\" : \"https://services3.arcgis.com/AkUq3zcWf7TVqyR9/arcgis/rest/services/Sites/FeatureServer/0/query?outFields=*&where=1%3D1\"})"
   ]
  },
  {
   "cell_type": "code",
   "execution_count": 4,
   "metadata": {
    "scrolled": true
   },
   "outputs": [
    {
     "data": {
      "text/html": [
       "<div class=\"item_container\" style=\"height: auto; overflow: hidden; border: 1px solid #cfcfcf; border-radius: 2px; background: #f6fafa; line-height: 1.21429em; padding: 10px;\">\n",
       "                    <div class=\"item_left\" style=\"width: 210px; float: left;\">\n",
       "                       <a href='https://www.arcgis.com/home/item.html?id=b271bf4902bb4e34b3ec11b1d7f32e49' target='_blank'>\n",
       "                        <img src='https://www.arcgis.com/sharing/rest//content/items/b271bf4902bb4e34b3ec11b1d7f32e49/info/thumbnail/ago_downloaded.png' class=\"itemThumbnail\">\n",
       "                       </a>\n",
       "                    </div>\n",
       "\n",
       "                    <div class=\"item_right\"     style=\"float: none; width: auto; overflow: hidden;\">\n",
       "                        <a href='https://www.arcgis.com/home/item.html?id=b271bf4902bb4e34b3ec11b1d7f32e49' target='_blank'><b>Transpower Basic Map</b>\n",
       "                        </a>\n",
       "                        <br/>Testing access Appviewer<img src='https://www.arcgis.com/home/js/jsapi/esri/css/images/item_type_icons/layers16.png' style=\"vertical-align:middle;\">Web Mapping Application by txa10ei\n",
       "                        <br/>Last Modified: mars 22, 2017\n",
       "                        <br/>0 comments, 28 views\n",
       "                    </div>\n",
       "                </div>\n",
       "                "
      ],
      "text/plain": [
       "<Item title:\"Transpower Basic Map\" type:Web Mapping Application owner:txa10ei>"
      ]
     },
     "metadata": {},
     "output_type": "display_data"
    },
    {
     "data": {
      "text/html": [
       "<div class=\"item_container\" style=\"height: auto; overflow: hidden; border: 1px solid #cfcfcf; border-radius: 2px; background: #f6fafa; line-height: 1.21429em; padding: 10px;\">\n",
       "                    <div class=\"item_left\" style=\"width: 210px; float: left;\">\n",
       "                       <a href='https://www.arcgis.com/home/item.html?id=931dec8aca6f4d65a357a7006cfc7734' target='_blank'>\n",
       "                        <img src='https://www.arcgis.com/sharing/rest//content/items/931dec8aca6f4d65a357a7006cfc7734/info/thumbnail/ago_downloaded.png' class=\"itemThumbnail\">\n",
       "                       </a>\n",
       "                    </div>\n",
       "\n",
       "                    <div class=\"item_right\"     style=\"float: none; width: auto; overflow: hidden;\">\n",
       "                        <a href='https://www.arcgis.com/home/item.html?id=931dec8aca6f4d65a357a7006cfc7734' target='_blank'><b>OTA-HEN 220Kv Transpower</b>\n",
       "                        </a>\n",
       "                        <br/>OTA-HEN 220Kv Project<img src='https://www.arcgis.com/home/js/jsapi/esri/css/images/item_type_icons/layers16.png' style=\"vertical-align:middle;\">Web Mapping Application by staceellis\n",
       "                        <br/>Last Modified: octobre 12, 2018\n",
       "                        <br/>0 comments, 104 views\n",
       "                    </div>\n",
       "                </div>\n",
       "                "
      ],
      "text/plain": [
       "<Item title:\"OTA-HEN 220Kv Transpower\" type:Web Mapping Application owner:staceellis>"
      ]
     },
     "metadata": {},
     "output_type": "display_data"
    },
    {
     "data": {
      "text/html": [
       "<div class=\"item_container\" style=\"height: auto; overflow: hidden; border: 1px solid #cfcfcf; border-radius: 2px; background: #f6fafa; line-height: 1.21429em; padding: 10px;\">\n",
       "                    <div class=\"item_left\" style=\"width: 210px; float: left;\">\n",
       "                       <a href='https://www.arcgis.com/home/item.html?id=63dba019d84648ba9453fe50d58f0e56' target='_blank'>\n",
       "                        <img src='https://www.arcgis.com/sharing/rest//content/items/63dba019d84648ba9453fe50d58f0e56/info/thumbnail/ago_downloaded.png' class=\"itemThumbnail\">\n",
       "                       </a>\n",
       "                    </div>\n",
       "\n",
       "                    <div class=\"item_right\"     style=\"float: none; width: auto; overflow: hidden;\">\n",
       "                        <a href='https://www.arcgis.com/home/item.html?id=63dba019d84648ba9453fe50d58f0e56' target='_blank'><b>Transpower Planting Plans</b>\n",
       "                        </a>\n",
       "                        <br/><img src='https://www.arcgis.com/home/js/jsapi/esri/css/images/item_type_icons/maps16.png' style=\"vertical-align:middle;\">Web Map by presto2j\n",
       "                        <br/>Last Modified: mars 04, 2020\n",
       "                        <br/>0 comments, 37 views\n",
       "                    </div>\n",
       "                </div>\n",
       "                "
      ],
      "text/plain": [
       "<Item title:\"Transpower Planting Plans\" type:Web Map owner:presto2j>"
      ]
     },
     "metadata": {},
     "output_type": "display_data"
    },
    {
     "data": {
      "text/html": [
       "<div class=\"item_container\" style=\"height: auto; overflow: hidden; border: 1px solid #cfcfcf; border-radius: 2px; background: #f6fafa; line-height: 1.21429em; padding: 10px;\">\n",
       "                    <div class=\"item_left\" style=\"width: 210px; float: left;\">\n",
       "                       <a href='https://www.arcgis.com/home/item.html?id=3ba4ae1111d548c682c1744cc06bbf30' target='_blank'>\n",
       "                        <img src='https://www.arcgis.com/sharing/rest//content/items/3ba4ae1111d548c682c1744cc06bbf30/info/thumbnail/ago_downloaded.png' class=\"itemThumbnail\">\n",
       "                       </a>\n",
       "                    </div>\n",
       "\n",
       "                    <div class=\"item_right\"     style=\"float: none; width: auto; overflow: hidden;\">\n",
       "                        <a href='https://www.arcgis.com/home/item.html?id=3ba4ae1111d548c682c1744cc06bbf30' target='_blank'><b>Transpower Planting Plans</b>\n",
       "                        </a>\n",
       "                        <br/><img src='https://www.arcgis.com/home/js/jsapi/esri/css/images/item_type_icons/layers16.png' style=\"vertical-align:middle;\">Web Mapping Application by presto2j\n",
       "                        <br/>Last Modified: janvier 29, 2020\n",
       "                        <br/>0 comments, 20 views\n",
       "                    </div>\n",
       "                </div>\n",
       "                "
      ],
      "text/plain": [
       "<Item title:\"Transpower Planting Plans\" type:Web Mapping Application owner:presto2j>"
      ]
     },
     "metadata": {},
     "output_type": "display_data"
    },
    {
     "data": {
      "text/html": [
       "<div class=\"item_container\" style=\"height: auto; overflow: hidden; border: 1px solid #cfcfcf; border-radius: 2px; background: #f6fafa; line-height: 1.21429em; padding: 10px;\">\n",
       "                    <div class=\"item_left\" style=\"width: 210px; float: left;\">\n",
       "                       <a href='https://www.arcgis.com/home/item.html?id=afaf5af9789a41d1a26a43e432c6008f' target='_blank'>\n",
       "                        <img src='http://static.arcgis.com/images/desktopapp.png' class=\"itemThumbnail\">\n",
       "                       </a>\n",
       "                    </div>\n",
       "\n",
       "                    <div class=\"item_right\"     style=\"float: none; width: auto; overflow: hidden;\">\n",
       "                        <a href='https://www.arcgis.com/home/item.html?id=afaf5af9789a41d1a26a43e432c6008f' target='_blank'><b>Maungatapu Marae Reservation: Transpower Overhead Power Line</b>\n",
       "                        </a>\n",
       "                        <br/><img src='https://www.arcgis.com/home/js/jsapi/esri/css/images/item_type_icons/maps16.png' style=\"vertical-align:middle;\">Web Map by kmfbas\n",
       "                        <br/>Last Modified: juillet 21, 2019\n",
       "                        <br/>0 comments, 60 views\n",
       "                    </div>\n",
       "                </div>\n",
       "                "
      ],
      "text/plain": [
       "<Item title:\"Maungatapu Marae Reservation: Transpower Overhead Power Line\" type:Web Map owner:kmfbas>"
      ]
     },
     "metadata": {},
     "output_type": "display_data"
    },
    {
     "data": {
      "text/html": [
       "<div class=\"item_container\" style=\"height: auto; overflow: hidden; border: 1px solid #cfcfcf; border-radius: 2px; background: #f6fafa; line-height: 1.21429em; padding: 10px;\">\n",
       "                    <div class=\"item_left\" style=\"width: 210px; float: left;\">\n",
       "                       <a href='https://www.arcgis.com/home/item.html?id=ce220d7ba511449094e7071ea963ac8b' target='_blank'>\n",
       "                        <img src='https://www.arcgis.com/sharing/rest//content/items/ce220d7ba511449094e7071ea963ac8b/info/thumbnail/ago_downloaded.png' class=\"itemThumbnail\">\n",
       "                       </a>\n",
       "                    </div>\n",
       "\n",
       "                    <div class=\"item_right\"     style=\"float: none; width: auto; overflow: hidden;\">\n",
       "                        <a href='https://www.arcgis.com/home/item.html?id=ce220d7ba511449094e7071ea963ac8b' target='_blank'><b>BOB-MER</b>\n",
       "                        </a>\n",
       "                        <br/><img src='https://www.arcgis.com/home/js/jsapi/esri/css/images/item_type_icons/layers16.png' style=\"vertical-align:middle;\">Web Mapping Application by staceellis\n",
       "                        <br/>Last Modified: septembre 05, 2019\n",
       "                        <br/>0 comments, 56 views\n",
       "                    </div>\n",
       "                </div>\n",
       "                "
      ],
      "text/plain": [
       "<Item title:\"BOB-MER\" type:Web Mapping Application owner:staceellis>"
      ]
     },
     "metadata": {},
     "output_type": "display_data"
    },
    {
     "data": {
      "text/html": [
       "<div class=\"item_container\" style=\"height: auto; overflow: hidden; border: 1px solid #cfcfcf; border-radius: 2px; background: #f6fafa; line-height: 1.21429em; padding: 10px;\">\n",
       "                    <div class=\"item_left\" style=\"width: 210px; float: left;\">\n",
       "                       <a href='https://www.arcgis.com/home/item.html?id=7300f7bb7a2e451790a67096d8f6ac9f' target='_blank'>\n",
       "                        <img src='https://www.arcgis.com/sharing/rest//content/items/7300f7bb7a2e451790a67096d8f6ac9f/info/thumbnail/ago_downloaded.png' class=\"itemThumbnail\">\n",
       "                       </a>\n",
       "                    </div>\n",
       "\n",
       "                    <div class=\"item_right\"     style=\"float: none; width: auto; overflow: hidden;\">\n",
       "                        <a href='https://www.arcgis.com/home/item.html?id=7300f7bb7a2e451790a67096d8f6ac9f' target='_blank'><b>NPL-SFD-A</b>\n",
       "                        </a>\n",
       "                        <br/><img src='https://www.arcgis.com/home/js/jsapi/esri/css/images/item_type_icons/maps16.png' style=\"vertical-align:middle;\">Web Map by staceellis\n",
       "                        <br/>Last Modified: octobre 10, 2019\n",
       "                        <br/>0 comments, 36 views\n",
       "                    </div>\n",
       "                </div>\n",
       "                "
      ],
      "text/plain": [
       "<Item title:\"NPL-SFD-A\" type:Web Map owner:staceellis>"
      ]
     },
     "metadata": {},
     "output_type": "display_data"
    },
    {
     "data": {
      "text/html": [
       "<div class=\"item_container\" style=\"height: auto; overflow: hidden; border: 1px solid #cfcfcf; border-radius: 2px; background: #f6fafa; line-height: 1.21429em; padding: 10px;\">\n",
       "                    <div class=\"item_left\" style=\"width: 210px; float: left;\">\n",
       "                       <a href='https://www.arcgis.com/home/item.html?id=581be37ddf684c0a8bba1afa0be8cb59' target='_blank'>\n",
       "                        <img src='https://www.arcgis.com/sharing/rest//content/items/581be37ddf684c0a8bba1afa0be8cb59/info/thumbnail/thumbnail.jpeg' class=\"itemThumbnail\">\n",
       "                       </a>\n",
       "                    </div>\n",
       "\n",
       "                    <div class=\"item_right\"     style=\"float: none; width: auto; overflow: hidden;\">\n",
       "                        <a href='https://www.arcgis.com/home/item.html?id=581be37ddf684c0a8bba1afa0be8cb59' target='_blank'><b>Transpower</b>\n",
       "                        </a>\n",
       "                        <br/><img src='https://www.arcgis.com/home/js/jsapi/esri/css/images/item_type_icons/websceneglobal16.png' style=\"vertical-align:middle;\">Web Scene by awesome3D\n",
       "                        <br/>Last Modified: septembre 05, 2017\n",
       "                        <br/>0 comments, 56 views\n",
       "                    </div>\n",
       "                </div>\n",
       "                "
      ],
      "text/plain": [
       "<Item title:\"Transpower\" type:Web Scene owner:awesome3D>"
      ]
     },
     "metadata": {},
     "output_type": "display_data"
    },
    {
     "data": {
      "text/html": [
       "<div class=\"item_container\" style=\"height: auto; overflow: hidden; border: 1px solid #cfcfcf; border-radius: 2px; background: #f6fafa; line-height: 1.21429em; padding: 10px;\">\n",
       "                    <div class=\"item_left\" style=\"width: 210px; float: left;\">\n",
       "                       <a href='https://www.arcgis.com/home/item.html?id=890b2b5efb374381a3e525ab3198694a' target='_blank'>\n",
       "                        <img src='https://www.arcgis.com/sharing/rest//content/items/890b2b5efb374381a3e525ab3198694a/info/thumbnail/ago_downloaded.png' class=\"itemThumbnail\">\n",
       "                       </a>\n",
       "                    </div>\n",
       "\n",
       "                    <div class=\"item_right\"     style=\"float: none; width: auto; overflow: hidden;\">\n",
       "                        <a href='https://www.arcgis.com/home/item.html?id=890b2b5efb374381a3e525ab3198694a' target='_blank'><b>Iwi Areas of Interest App</b>\n",
       "                        </a>\n",
       "                        <br/>Illustrates spatial relationship between Transpower Transmission Grid Network, Iwi boundaries and Marae locations.<img src='https://www.arcgis.com/home/js/jsapi/esri/css/images/item_type_icons/layers16.png' style=\"vertical-align:middle;\">Web Mapping Application by Heath.Aldrich@transpower.co.nz_Transpower\n",
       "                        <br/>Last Modified: septembre 04, 2019\n",
       "                        <br/>0 comments, 240 views\n",
       "                    </div>\n",
       "                </div>\n",
       "                "
      ],
      "text/plain": [
       "<Item title:\"Iwi Areas of Interest App\" type:Web Mapping Application owner:Heath.Aldrich@transpower.co.nz_Transpower>"
      ]
     },
     "metadata": {},
     "output_type": "display_data"
    },
    {
     "data": {
      "text/html": [
       "<div class=\"item_container\" style=\"height: auto; overflow: hidden; border: 1px solid #cfcfcf; border-radius: 2px; background: #f6fafa; line-height: 1.21429em; padding: 10px;\">\n",
       "                    <div class=\"item_left\" style=\"width: 210px; float: left;\">\n",
       "                       <a href='https://www.arcgis.com/home/item.html?id=b1c228ae598c40fa9d42a209e24b8e39' target='_blank'>\n",
       "                        <img src='https://www.arcgis.com/sharing/rest//content/items/b1c228ae598c40fa9d42a209e24b8e39/info/thumbnail/ago_downloaded.png' class=\"itemThumbnail\">\n",
       "                       </a>\n",
       "                    </div>\n",
       "\n",
       "                    <div class=\"item_right\"     style=\"float: none; width: auto; overflow: hidden;\">\n",
       "                        <a href='https://www.arcgis.com/home/item.html?id=b1c228ae598c40fa9d42a209e24b8e39' target='_blank'><b>Transpower_Assets</b>\n",
       "                        </a>\n",
       "                        <br/>Transpower assets map to aid in consent assessment.<img src='https://www.arcgis.com/home/js/jsapi/esri/css/images/item_type_icons/maps16.png' style=\"vertical-align:middle;\">Web Map by miles.dunkin@BML\n",
       "                        <br/>Last Modified: juillet 10, 2017\n",
       "                        <br/>0 comments, 172 views\n",
       "                    </div>\n",
       "                </div>\n",
       "                "
      ],
      "text/plain": [
       "<Item title:\"Transpower_Assets\" type:Web Map owner:miles.dunkin@BML>"
      ]
     },
     "metadata": {},
     "output_type": "display_data"
    }
   ],
   "source": [
    "tp_search = gis.content.search('transpower')\n",
    "for item in tp_search:\n",
    "    display(item)"
   ]
  },
  {
   "cell_type": "code",
   "execution_count": 34,
   "metadata": {
    "scrolled": true
   },
   "outputs": [
    {
     "data": {
      "text/html": [
       "<div class=\"9item_container\" style=\"height: auto; overflow: hidden; border: 1px solid #cfcfcf; border-radius: 2px; background: #f6fafa; line-height: 1.21429em; padding: 10px;\">\n",
       "                    <div class=\"item_left\" style=\"width: 210px; float: left;\">\n",
       "                       <a href='https://www.arcgis.com/home/group.html?id=c8292aab5a6a4003ab6f09713831eb76' target='_blank'>\n",
       "                        <img src='https://www.arcgis.com/home/images/group-no-image.png' class=\"itemThumbnail\">\n",
       "                       </a>\n",
       "                    </div>\n",
       "\n",
       "                    <div class=\"item_right\" style=\"float: none; width: auto; overflow: hidden;\">\n",
       "                        <a href='https://www.arcgis.com/home/group.html?id=c8292aab5a6a4003ab6f09713831eb76' target='_blank'><b>Transpower and Tonkin + Taylor</b>\n",
       "                        </a>\n",
       "                        <br/>\n",
       "                        <br/><b>Summary</b>: This group includes Transpower and T+T staff members that are working together on contaiminated land issues. \n",
       "                        <br/><b>Description</b>: None\n",
       "                        <br/><b>Owner</b>: Matt.Simmons\n",
       "                        <br/><b>Created</b>: juin 11, 2019\n",
       "\n",
       "                    </div>\n",
       "                </div>\n",
       "                "
      ],
      "text/plain": [
       "<Group title:\"Transpower and Tonkin + Taylor\" owner:Matt.Simmons>"
      ]
     },
     "metadata": {},
     "output_type": "display_data"
    },
    {
     "data": {
      "text/html": [
       "<div class=\"9item_container\" style=\"height: auto; overflow: hidden; border: 1px solid #cfcfcf; border-radius: 2px; background: #f6fafa; line-height: 1.21429em; padding: 10px;\">\n",
       "                    <div class=\"item_left\" style=\"width: 210px; float: left;\">\n",
       "                       <a href='https://www.arcgis.com/home/group.html?id=311728335b2d4704b520ab4e8a1a0a20' target='_blank'>\n",
       "                        <img src='https://www.arcgis.com/home/images/group-no-image.png' class=\"itemThumbnail\">\n",
       "                       </a>\n",
       "                    </div>\n",
       "\n",
       "                    <div class=\"item_right\" style=\"float: none; width: auto; overflow: hidden;\">\n",
       "                        <a href='https://www.arcgis.com/home/group.html?id=311728335b2d4704b520ab4e8a1a0a20' target='_blank'><b>Transpower New Zealand Content</b>\n",
       "                        </a>\n",
       "                        <br/>\n",
       "                        <br/><b>Summary</b>: Applications, maps, data, etc. shared with this group generates the Transpower New Zealand content catalog.\n",
       "                        <br/><b>Description</b>: Use this group to organize the items that you want to share as part of your site. Shared items become available in your site's search results and only people who have access to these items will be able to find them. Members of the core team get access to shared items and can update them at any time. Certain cards, like the Gallery card, will automatically populate with shared items so that you don't have to search for them when choosing what you want to display on your site.<br /><br />Contact support with any questions related to this group or content management for your site.<br /><br /><strong>DO NOT DELETE THIS GROUP.</strong>\n",
       "                        <br/><b>Owner</b>: Mark.Peacey@transpower.co.nz_Transpower\n",
       "                        <br/><b>Created</b>: février 28, 2020\n",
       "\n",
       "                    </div>\n",
       "                </div>\n",
       "                "
      ],
      "text/plain": [
       "<Group title:\"Transpower New Zealand Content\" owner:Mark.Peacey@transpower.co.nz_Transpower>"
      ]
     },
     "metadata": {},
     "output_type": "display_data"
    },
    {
     "data": {
      "text/html": [
       "<div class=\"9item_container\" style=\"height: auto; overflow: hidden; border: 1px solid #cfcfcf; border-radius: 2px; background: #f6fafa; line-height: 1.21429em; padding: 10px;\">\n",
       "                    <div class=\"item_left\" style=\"width: 210px; float: left;\">\n",
       "                       <a href='https://www.arcgis.com/home/group.html?id=2c40949e155f4ca4b909f443d059af71' target='_blank'>\n",
       "                        <img src='https://www.arcgis.com/home/images/group-no-image.png' class=\"itemThumbnail\">\n",
       "                       </a>\n",
       "                    </div>\n",
       "\n",
       "                    <div class=\"item_right\" style=\"float: none; width: auto; overflow: hidden;\">\n",
       "                        <a href='https://www.arcgis.com/home/group.html?id=2c40949e155f4ca4b909f443d059af71' target='_blank'><b>Transpower New Zealand Limited Open Data</b>\n",
       "                        </a>\n",
       "                        <br/>\n",
       "                        <br/><b>Summary</b>: Open Data group for Transpower New Zealand Limited.\n",
       "                        <br/><b>Description</b>: None\n",
       "                        <br/><b>Owner</b>: Transpower_geospatial\n",
       "                        <br/><b>Created</b>: février 20, 2018\n",
       "\n",
       "                    </div>\n",
       "                </div>\n",
       "                "
      ],
      "text/plain": [
       "<Group title:\"Transpower New Zealand Limited Open Data\" owner:Transpower_geospatial>"
      ]
     },
     "metadata": {},
     "output_type": "display_data"
    }
   ],
   "source": [
    "# user search\n",
    "tp_user_search = gis.groups.search('transpower')\n",
    "for item in tp_user_search:\n",
    "    display(item)"
   ]
  },
  {
   "cell_type": "code",
   "execution_count": 28,
   "metadata": {},
   "outputs": [
    {
     "data": {
      "text/html": [
       "<div class=\"9item_container\" style=\"height: auto; overflow: hidden; border: 1px solid #cfcfcf; border-radius: 2px; background: #f6fafa; line-height: 1.21429em; padding: 10px;\">\n",
       "                    <div class=\"item_left\" style=\"width: 210px; float: left;\">\n",
       "                       <a href='https://www.arcgis.com/home/user.html?user=Transpower_geospatial' target='_blank'>\n",
       "                        <img src='https://www.arcgis.com/home/js/arcgisonline/css/images/no-user-thumb.jpg' class=\"itemThumbnail\">\n",
       "                       </a>\n",
       "                    </div>\n",
       "\n",
       "                    <div class=\"item_right\" style=\"float: none; width: auto; overflow: hidden;\">\n",
       "                        <a href='https://www.arcgis.com/home/user.html?user=Transpower_geospatial' target='_blank'><b></b>\n",
       "                        </a>\n",
       "                        <br/><br/><b>Bio</b>: This user has not provided any personal information.\n",
       "                        <br/><b>First Name</b>: \n",
       "                        <br/><b>Last Name</b>: \n",
       "                        <br/><b>Username</b>: Transpower_geospatial\n",
       "                        <br/><b>Joined</b>: février 12, 2018\n",
       "\n",
       "                    </div>\n",
       "                </div>\n",
       "                "
      ],
      "text/plain": [
       "<User username:Transpower_geospatial>"
      ]
     },
     "execution_count": 28,
     "metadata": {},
     "output_type": "execute_result"
    }
   ],
   "source": [
    "gis.users.get('Transpower_geospatial')"
   ]
  },
  {
   "cell_type": "code",
   "execution_count": 6,
   "metadata": {
    "scrolled": true
   },
   "outputs": [
    {
     "data": {
      "text/html": [
       "<div class=\"item_container\" style=\"height: auto; overflow: hidden; border: 1px solid #cfcfcf; border-radius: 2px; background: #f6fafa; line-height: 1.21429em; padding: 10px;\">\n",
       "                    <div class=\"item_left\" style=\"width: 210px; float: left;\">\n",
       "                       <a href='https://www.arcgis.com/home/item.html?id=0c8db240553f47b5844bdc2eb1146b9b' target='_blank'>\n",
       "                        <img src='https://www.arcgis.com/sharing/rest//content/items/0c8db240553f47b5844bdc2eb1146b9b/info/thumbnail/thumbnail.png' class=\"itemThumbnail\">\n",
       "                       </a>\n",
       "                    </div>\n",
       "\n",
       "                    <div class=\"item_right\"     style=\"float: none; width: auto; overflow: hidden;\">\n",
       "                        <a href='https://www.arcgis.com/home/item.html?id=0c8db240553f47b5844bdc2eb1146b9b' target='_blank'><b>Transmission Lines</b>\n",
       "                        </a>\n",
       "                        <br/>Transpower New Zealand transmission lines by voltage and type.<img src='https://www.arcgis.com/home/js/jsapi/esri/css/images/item_type_icons/featureshosted16.png' style=\"vertical-align:middle;\">Feature Layer Collection by Transpower_geospatial\n",
       "                        <br/>Last Modified: mai 10, 2020\n",
       "                        <br/>0 comments, 14 874 views\n",
       "                    </div>\n",
       "                </div>\n",
       "                "
      ],
      "text/plain": [
       "<Item title:\"Transmission Lines\" type:Feature Layer Collection owner:Transpower_geospatial>"
      ]
     },
     "metadata": {},
     "output_type": "display_data"
    },
    {
     "data": {
      "text/html": [
       "<div class=\"item_container\" style=\"height: auto; overflow: hidden; border: 1px solid #cfcfcf; border-radius: 2px; background: #f6fafa; line-height: 1.21429em; padding: 10px;\">\n",
       "                    <div class=\"item_left\" style=\"width: 210px; float: left;\">\n",
       "                       <a href='https://www.arcgis.com/home/item.html?id=0e8f361371914a6f95133f58d34ffcb9' target='_blank'>\n",
       "                        <img src='https://www.arcgis.com/sharing/rest//content/items/0e8f361371914a6f95133f58d34ffcb9/info/thumbnail/thumbnail.png' class=\"itemThumbnail\">\n",
       "                       </a>\n",
       "                    </div>\n",
       "\n",
       "                    <div class=\"item_right\"     style=\"float: none; width: auto; overflow: hidden;\">\n",
       "                        <a href='https://www.arcgis.com/home/item.html?id=0e8f361371914a6f95133f58d34ffcb9' target='_blank'><b>Line Area Contacts</b>\n",
       "                        </a>\n",
       "                        <br/>Transpower's Line Service Providers. The boundaries and contacts for contractors in charge of Transmission Lines in each area.<img src='https://www.arcgis.com/home/js/jsapi/esri/css/images/item_type_icons/featureshosted16.png' style=\"vertical-align:middle;\">Feature Layer Collection by Transpower_geospatial\n",
       "                        <br/>Last Modified: mai 10, 2020\n",
       "                        <br/>0 comments, 484 views\n",
       "                    </div>\n",
       "                </div>\n",
       "                "
      ],
      "text/plain": [
       "<Item title:\"Line Area Contacts\" type:Feature Layer Collection owner:Transpower_geospatial>"
      ]
     },
     "metadata": {},
     "output_type": "display_data"
    },
    {
     "data": {
      "text/html": [
       "<div class=\"item_container\" style=\"height: auto; overflow: hidden; border: 1px solid #cfcfcf; border-radius: 2px; background: #f6fafa; line-height: 1.21429em; padding: 10px;\">\n",
       "                    <div class=\"item_left\" style=\"width: 210px; float: left;\">\n",
       "                       <a href='https://www.arcgis.com/home/item.html?id=630faa14841f4a55af75195e0c88390b' target='_blank'>\n",
       "                        <img src='https://www.arcgis.com/sharing/rest//content/items/630faa14841f4a55af75195e0c88390b/info/thumbnail/thumbnail.png' class=\"itemThumbnail\">\n",
       "                       </a>\n",
       "                    </div>\n",
       "\n",
       "                    <div class=\"item_right\"     style=\"float: none; width: auto; overflow: hidden;\">\n",
       "                        <a href='https://www.arcgis.com/home/item.html?id=630faa14841f4a55af75195e0c88390b' target='_blank'><b>Structures</b>\n",
       "                        </a>\n",
       "                        <br/>All Transpower structures. Structures, Towers and pole centre points.<img src='https://www.arcgis.com/home/js/jsapi/esri/css/images/item_type_icons/featureshosted16.png' style=\"vertical-align:middle;\">Feature Layer Collection by Transpower_geospatial\n",
       "                        <br/>Last Modified: mai 10, 2020\n",
       "                        <br/>0 comments, 11 012 views\n",
       "                    </div>\n",
       "                </div>\n",
       "                "
      ],
      "text/plain": [
       "<Item title:\"Structures\" type:Feature Layer Collection owner:Transpower_geospatial>"
      ]
     },
     "metadata": {},
     "output_type": "display_data"
    },
    {
     "data": {
      "text/html": [
       "<div class=\"item_container\" style=\"height: auto; overflow: hidden; border: 1px solid #cfcfcf; border-radius: 2px; background: #f6fafa; line-height: 1.21429em; padding: 10px;\">\n",
       "                    <div class=\"item_left\" style=\"width: 210px; float: left;\">\n",
       "                       <a href='https://www.arcgis.com/home/item.html?id=f6fd6fc63633482d9d246961ba650805' target='_blank'>\n",
       "                        <img src='https://www.arcgis.com/sharing/rest//content/items/f6fd6fc63633482d9d246961ba650805/info/thumbnail/thumbnail.png' class=\"itemThumbnail\">\n",
       "                       </a>\n",
       "                    </div>\n",
       "\n",
       "                    <div class=\"item_right\"     style=\"float: none; width: auto; overflow: hidden;\">\n",
       "                        <a href='https://www.arcgis.com/home/item.html?id=f6fd6fc63633482d9d246961ba650805' target='_blank'><b>Spans</b>\n",
       "                        </a>\n",
       "                        <br/>Transpower NZ Transmission Line Spans. This includes all overhead transmission lines. It is representational only of the centerline between each tower, pole or termination. <img src='https://www.arcgis.com/home/js/jsapi/esri/css/images/item_type_icons/featureshosted16.png' style=\"vertical-align:middle;\">Feature Layer Collection by Transpower_geospatial\n",
       "                        <br/>Last Modified: mai 10, 2020\n",
       "                        <br/>0 comments, 1 295 views\n",
       "                    </div>\n",
       "                </div>\n",
       "                "
      ],
      "text/plain": [
       "<Item title:\"Spans\" type:Feature Layer Collection owner:Transpower_geospatial>"
      ]
     },
     "metadata": {},
     "output_type": "display_data"
    },
    {
     "data": {
      "text/html": [
       "<div class=\"item_container\" style=\"height: auto; overflow: hidden; border: 1px solid #cfcfcf; border-radius: 2px; background: #f6fafa; line-height: 1.21429em; padding: 10px;\">\n",
       "                    <div class=\"item_left\" style=\"width: 210px; float: left;\">\n",
       "                       <a href='https://www.arcgis.com/home/item.html?id=7c26d0059ed2405b9e9df11fab656e1b' target='_blank'>\n",
       "                        <img src='https://www.arcgis.com/sharing/rest//content/items/7c26d0059ed2405b9e9df11fab656e1b/info/thumbnail/thumbnail.png' class=\"itemThumbnail\">\n",
       "                       </a>\n",
       "                    </div>\n",
       "\n",
       "                    <div class=\"item_right\"     style=\"float: none; width: auto; overflow: hidden;\">\n",
       "                        <a href='https://www.arcgis.com/home/item.html?id=7c26d0059ed2405b9e9df11fab656e1b' target='_blank'><b>Cook Strait Protection Zone</b>\n",
       "                        </a>\n",
       "                        <br/>This outlines the areas that are listed as protected for the Cook Strait Cables.<img src='https://www.arcgis.com/home/js/jsapi/esri/css/images/item_type_icons/featureshosted16.png' style=\"vertical-align:middle;\">Feature Layer Collection by Transpower_geospatial\n",
       "                        <br/>Last Modified: mai 10, 2020\n",
       "                        <br/>0 comments, 234 views\n",
       "                    </div>\n",
       "                </div>\n",
       "                "
      ],
      "text/plain": [
       "<Item title:\"Cook Strait Protection Zone\" type:Feature Layer Collection owner:Transpower_geospatial>"
      ]
     },
     "metadata": {},
     "output_type": "display_data"
    },
    {
     "data": {
      "text/html": [
       "<div class=\"item_container\" style=\"height: auto; overflow: hidden; border: 1px solid #cfcfcf; border-radius: 2px; background: #f6fafa; line-height: 1.21429em; padding: 10px;\">\n",
       "                    <div class=\"item_left\" style=\"width: 210px; float: left;\">\n",
       "                       <a href='https://www.arcgis.com/home/item.html?id=e507953ab8934fc3a115b2e79226cbd6' target='_blank'>\n",
       "                        <img src='https://www.arcgis.com/sharing/rest//content/items/e507953ab8934fc3a115b2e79226cbd6/info/thumbnail/thumbnail.png' class=\"itemThumbnail\">\n",
       "                       </a>\n",
       "                    </div>\n",
       "\n",
       "                    <div class=\"item_right\"     style=\"float: none; width: auto; overflow: hidden;\">\n",
       "                        <a href='https://www.arcgis.com/home/item.html?id=e507953ab8934fc3a115b2e79226cbd6' target='_blank'><b>Sites</b>\n",
       "                        </a>\n",
       "                        <br/>Transpower sites which include AC stations, DC Stations, Coms and Tees.<img src='https://www.arcgis.com/home/js/jsapi/esri/css/images/item_type_icons/featureshosted16.png' style=\"vertical-align:middle;\">Feature Layer Collection by Transpower_geospatial\n",
       "                        <br/>Last Modified: mai 10, 2020\n",
       "                        <br/>0 comments, 8 002 views\n",
       "                    </div>\n",
       "                </div>\n",
       "                "
      ],
      "text/plain": [
       "<Item title:\"Sites\" type:Feature Layer Collection owner:Transpower_geospatial>"
      ]
     },
     "metadata": {},
     "output_type": "display_data"
    }
   ],
   "source": [
    "# search for feature layers only\n",
    "tp_search = gis.content.search(query=\"owner:Transpower_geospatial\", item_type=\"Feature *\")\n",
    "for item in tp_search:\n",
    "    display(item)"
   ]
  },
  {
   "cell_type": "code",
   "execution_count": 55,
   "metadata": {},
   "outputs": [
    {
     "data": {
      "text/plain": [
       "'0c8db240553f47b5844bdc2eb1146b9b'"
      ]
     },
     "execution_count": 55,
     "metadata": {},
     "output_type": "execute_result"
    }
   ],
   "source": [
    "tp_search[0].id"
   ]
  },
  {
   "cell_type": "code",
   "execution_count": 12,
   "metadata": {},
   "outputs": [
    {
     "data": {
      "text/plain": [
       "'e507953ab8934fc3a115b2e79226cbd6'"
      ]
     },
     "execution_count": 12,
     "metadata": {},
     "output_type": "execute_result"
    }
   ],
   "source": [
    "tp_search[5].id"
   ]
  },
  {
   "cell_type": "code",
   "execution_count": 48,
   "metadata": {},
   "outputs": [
    {
     "data": {
      "text/plain": [
       "[<Item title:\"Transmission Lines\" type:Feature Layer Collection owner:Transpower_geospatial>,\n",
       " <Item title:\"Transpower GIS Day Quiz 2019_stakeholder\" type:Feature Layer Collection owner:Heath.Aldrich@transpower.co.nz_Transpower>,\n",
       " <Item title:\"Buffers around Structures\" type:Feature Layer Collection owner:Heath.Aldrich@transpower.co.nz_Transpower>,\n",
       " <Item title:\"Line Area Contacts\" type:Feature Layer Collection owner:Transpower_geospatial>,\n",
       " <Item title:\"Structures\" type:Feature Layer Collection owner:Transpower_geospatial>,\n",
       " <Item title:\"Transpower_planting_plan\" type:Feature Layer Collection owner:presto2j>,\n",
       " <Item title:\"Spans\" type:Feature Layer Collection owner:Transpower_geospatial>,\n",
       " <Item title:\"TP West\" type:Feature Layer Collection owner:cary.lancaster>,\n",
       " <Item title:\"Cook Strait Protection Zone\" type:Feature Layer Collection owner:Transpower_geospatial>,\n",
       " <Item title:\"ETLPATROL Mobile Inspection Map\" type:Feature Layer Collection owner:cary.lancaster>]"
      ]
     },
     "execution_count": 48,
     "metadata": {},
     "output_type": "execute_result"
    }
   ],
   "source": [
    "gis.content.search(\"transpower*\", item_type=\"Feature *\")              "
   ]
  },
  {
   "cell_type": "code",
   "execution_count": 13,
   "metadata": {},
   "outputs": [],
   "source": [
    "# getting transmission line and sites layer\n",
    "lines_item  = gis.content.get(\"0c8db240553f47b5844bdc2eb1146b9b\")\n",
    "sites_item = gis.content.get(\"e507953ab8934fc3a115b2e79226cbd6\")"
   ]
  },
  {
   "cell_type": "code",
   "execution_count": 75,
   "metadata": {},
   "outputs": [
    {
     "data": {
      "text/plain": [
       "<FeatureLayer url:\"https://services3.arcgis.com/AkUq3zcWf7TVqyR9/arcgis/rest/services/TransmissionLines/FeatureServer/0\">"
      ]
     },
     "execution_count": 75,
     "metadata": {},
     "output_type": "execute_result"
    }
   ],
   "source": [
    "lines_layer = lines_item.layers[0]\n",
    "lines_layer"
   ]
  },
  {
   "cell_type": "code",
   "execution_count": 76,
   "metadata": {},
   "outputs": [
    {
     "data": {
      "text/plain": [
       "{\n",
       "  \"xmin\": 1153053.1001000004,\n",
       "  \"ymin\": 4830091.0001,\n",
       "  \"xmax\": 2013091.3701000004,\n",
       "  \"ymax\": 6082731.2001,\n",
       "  \"spatialReference\": {\n",
       "    \"wkid\": 2193,\n",
       "    \"latestWkid\": 2193\n",
       "  }\n",
       "}"
      ]
     },
     "execution_count": 76,
     "metadata": {},
     "output_type": "execute_result"
    }
   ],
   "source": [
    "lines_layer.properties.extent"
   ]
  },
  {
   "cell_type": "code",
   "execution_count": 77,
   "metadata": {},
   "outputs": [
    {
     "data": {
      "text/plain": [
       "'Query,Sync'"
      ]
     },
     "execution_count": 77,
     "metadata": {},
     "output_type": "execute_result"
    }
   ],
   "source": [
    "lines_layer.properties.capabilities"
   ]
  },
  {
   "cell_type": "code",
   "execution_count": 78,
   "metadata": {},
   "outputs": [
    {
     "name": "stdout",
     "output_type": "stream",
     "text": [
      "OBJECTID\n",
      "MXLOCATION\n",
      "designvolt\n",
      "status\n",
      "description\n",
      "type\n",
      "Symbol\n",
      "Shape__Length\n",
      "GlobalID\n"
     ]
    }
   ],
   "source": [
    "for f in lines_layer.properties.fields:\n",
    "    print(f['name'])"
   ]
  },
  {
   "cell_type": "code",
   "execution_count": 81,
   "metadata": {},
   "outputs": [],
   "source": [
    "lines = lines_layer.query()"
   ]
  },
  {
   "cell_type": "code",
   "execution_count": 89,
   "metadata": {},
   "outputs": [
    {
     "data": {
      "text/html": [
       "<div>\n",
       "<style scoped>\n",
       "    .dataframe tbody tr th:only-of-type {\n",
       "        vertical-align: middle;\n",
       "    }\n",
       "\n",
       "    .dataframe tbody tr th {\n",
       "        vertical-align: top;\n",
       "    }\n",
       "\n",
       "    .dataframe thead th {\n",
       "        text-align: right;\n",
       "    }\n",
       "</style>\n",
       "<table border=\"1\" class=\"dataframe\">\n",
       "  <thead>\n",
       "    <tr style=\"text-align: right;\">\n",
       "      <th></th>\n",
       "      <th>OBJECTID</th>\n",
       "      <th>MXLOCATION</th>\n",
       "      <th>designvolt</th>\n",
       "      <th>status</th>\n",
       "      <th>description</th>\n",
       "      <th>type</th>\n",
       "      <th>Symbol</th>\n",
       "      <th>Shape__Length</th>\n",
       "      <th>GlobalID</th>\n",
       "      <th>SHAPE</th>\n",
       "    </tr>\n",
       "  </thead>\n",
       "  <tbody>\n",
       "    <tr>\n",
       "      <th>0</th>\n",
       "      <td>1</td>\n",
       "      <td>AHA-DOB-A</td>\n",
       "      <td>66</td>\n",
       "      <td>COMMISSIONED</td>\n",
       "      <td>Arahura - Dobson A</td>\n",
       "      <td>TRANSLINE</td>\n",
       "      <td>66 TRANSLINE</td>\n",
       "      <td>8857.464408</td>\n",
       "      <td>96701d10-0b95-479a-b129-fe8ab502e779</td>\n",
       "      <td>{\"paths\": [[[1453184.0001, 5298166.0001], [145...</td>\n",
       "    </tr>\n",
       "    <tr>\n",
       "      <th>1</th>\n",
       "      <td>2</td>\n",
       "      <td>AHA-DOB-A1-CBL</td>\n",
       "      <td>66</td>\n",
       "      <td>COMMISSIONED</td>\n",
       "      <td>AHA-DOB-A1-CBL Section</td>\n",
       "      <td>CABLE</td>\n",
       "      <td>66 CABLE</td>\n",
       "      <td>470.196469</td>\n",
       "      <td>e439797e-3b56-4ae2-9719-045bf4e715c0</td>\n",
       "      <td>{\"paths\": [[[1460324.9491, 5298488.0175], [146...</td>\n",
       "    </tr>\n",
       "    <tr>\n",
       "      <th>2</th>\n",
       "      <td>3</td>\n",
       "      <td>AHA-OTI-A</td>\n",
       "      <td>66</td>\n",
       "      <td>COMMISSIONED</td>\n",
       "      <td>Arahura - Otira A</td>\n",
       "      <td>TRANSLINE</td>\n",
       "      <td>66 TRANSLINE</td>\n",
       "      <td>63421.177585</td>\n",
       "      <td>db536422-835a-4409-b034-9f2338357667</td>\n",
       "      <td>{\"paths\": [[[1482713.0001, 5256887.0001], [148...</td>\n",
       "    </tr>\n",
       "    <tr>\n",
       "      <th>3</th>\n",
       "      <td>4</td>\n",
       "      <td>ALB-HPI-A</td>\n",
       "      <td>220</td>\n",
       "      <td>COMMISSIONED</td>\n",
       "      <td>Albany - Huapai A</td>\n",
       "      <td>TRANSLINE</td>\n",
       "      <td>220 TRANSLINE</td>\n",
       "      <td>14887.805068</td>\n",
       "      <td>6c77a053-51f2-424e-bb75-f5bef7d33e0f</td>\n",
       "      <td>{\"paths\": [[[1737714.8201, 5930696.9801], [173...</td>\n",
       "    </tr>\n",
       "    <tr>\n",
       "      <th>4</th>\n",
       "      <td>5</td>\n",
       "      <td>ALB-SVL-A</td>\n",
       "      <td>220</td>\n",
       "      <td>COMMISSIONED</td>\n",
       "      <td>Albany - Silverdale A</td>\n",
       "      <td>TRANSLINE</td>\n",
       "      <td>220 TRANSLINE</td>\n",
       "      <td>14346.263293</td>\n",
       "      <td>904dbe48-6fa0-4d5f-81f0-ca052de82ba0</td>\n",
       "      <td>{\"paths\": [[[1750911.0001, 5932791.0001], [175...</td>\n",
       "    </tr>\n",
       "    <tr>\n",
       "      <th>...</th>\n",
       "      <td>...</td>\n",
       "      <td>...</td>\n",
       "      <td>...</td>\n",
       "      <td>...</td>\n",
       "      <td>...</td>\n",
       "      <td>...</td>\n",
       "      <td>...</td>\n",
       "      <td>...</td>\n",
       "      <td>...</td>\n",
       "      <td>...</td>\n",
       "    </tr>\n",
       "    <tr>\n",
       "      <th>219</th>\n",
       "      <td>231</td>\n",
       "      <td>ROX-TWZ-A</td>\n",
       "      <td>220</td>\n",
       "      <td>COMMISSIONED</td>\n",
       "      <td>Roxburgh - Twizel A</td>\n",
       "      <td>TRANSLINE</td>\n",
       "      <td>220 TRANSLINE</td>\n",
       "      <td>175153.700431</td>\n",
       "      <td>001a1115-ce8c-4486-bf54-2801dbf0faaa</td>\n",
       "      <td>{\"paths\": [[[1312296.0001, 4957447.0001], [131...</td>\n",
       "    </tr>\n",
       "    <tr>\n",
       "      <th>220</th>\n",
       "      <td>1838</td>\n",
       "      <td>WRK-WKM-A</td>\n",
       "      <td>220</td>\n",
       "      <td>COMMISSIONED</td>\n",
       "      <td>Wairakei - Whakamaru A</td>\n",
       "      <td>TRANSLINE</td>\n",
       "      <td>220 TRANSLINE</td>\n",
       "      <td>56477.938326</td>\n",
       "      <td>f98cb8e6-a1ce-4113-821c-ba738aa5a01f</td>\n",
       "      <td>{\"paths\": [[[1870271.9947, 5720206.1761], [187...</td>\n",
       "    </tr>\n",
       "    <tr>\n",
       "      <th>221</th>\n",
       "      <td>1840</td>\n",
       "      <td>JRD-TEE-A</td>\n",
       "      <td>110</td>\n",
       "      <td>COMMISSIONED</td>\n",
       "      <td>Junction Road - Tee A</td>\n",
       "      <td>TRANSLINE</td>\n",
       "      <td>110 TRANSLINE</td>\n",
       "      <td>358.810853</td>\n",
       "      <td>ecbe819e-475a-4263-b197-a684d2dc05bc</td>\n",
       "      <td>{\"paths\": [[[1695478.6002, 5669636.1972], [169...</td>\n",
       "    </tr>\n",
       "    <tr>\n",
       "      <th>222</th>\n",
       "      <td>2298</td>\n",
       "      <td>OTA-WKM-A1-CBL</td>\n",
       "      <td>220</td>\n",
       "      <td>COMMISSIONED</td>\n",
       "      <td>OTA-WKM-A1 Cable</td>\n",
       "      <td>CABLE</td>\n",
       "      <td>220 CABLE</td>\n",
       "      <td>6844.023440</td>\n",
       "      <td>ce922f3c-914c-4a8c-ac23-e0f0ad40f751</td>\n",
       "      <td>{\"paths\": [[[1772120.7377, 5904597.2071], [177...</td>\n",
       "    </tr>\n",
       "    <tr>\n",
       "      <th>223</th>\n",
       "      <td>2299</td>\n",
       "      <td>OTA-WKM-B2-CBL</td>\n",
       "      <td>220</td>\n",
       "      <td>COMMISSIONED</td>\n",
       "      <td>OTA-WKM-B2 Cable</td>\n",
       "      <td>CABLE</td>\n",
       "      <td>220 CABLE</td>\n",
       "      <td>6813.560443</td>\n",
       "      <td>817afd7b-ec44-47e8-baa5-05285c85c8a5</td>\n",
       "      <td>{\"paths\": [[[1772109.0925, 5904576.5721], [177...</td>\n",
       "    </tr>\n",
       "  </tbody>\n",
       "</table>\n",
       "<p>224 rows × 10 columns</p>\n",
       "</div>"
      ],
      "text/plain": [
       "     OBJECTID      MXLOCATION designvolt        status  \\\n",
       "0           1       AHA-DOB-A         66  COMMISSIONED   \n",
       "1           2  AHA-DOB-A1-CBL         66  COMMISSIONED   \n",
       "2           3       AHA-OTI-A         66  COMMISSIONED   \n",
       "3           4       ALB-HPI-A        220  COMMISSIONED   \n",
       "4           5       ALB-SVL-A        220  COMMISSIONED   \n",
       "..        ...             ...        ...           ...   \n",
       "219       231       ROX-TWZ-A        220  COMMISSIONED   \n",
       "220      1838       WRK-WKM-A        220  COMMISSIONED   \n",
       "221      1840       JRD-TEE-A        110  COMMISSIONED   \n",
       "222      2298  OTA-WKM-A1-CBL        220  COMMISSIONED   \n",
       "223      2299  OTA-WKM-B2-CBL        220  COMMISSIONED   \n",
       "\n",
       "                description       type         Symbol  Shape__Length  \\\n",
       "0        Arahura - Dobson A  TRANSLINE   66 TRANSLINE    8857.464408   \n",
       "1    AHA-DOB-A1-CBL Section      CABLE       66 CABLE     470.196469   \n",
       "2         Arahura - Otira A  TRANSLINE   66 TRANSLINE   63421.177585   \n",
       "3         Albany - Huapai A  TRANSLINE  220 TRANSLINE   14887.805068   \n",
       "4     Albany - Silverdale A  TRANSLINE  220 TRANSLINE   14346.263293   \n",
       "..                      ...        ...            ...            ...   \n",
       "219     Roxburgh - Twizel A  TRANSLINE  220 TRANSLINE  175153.700431   \n",
       "220  Wairakei - Whakamaru A  TRANSLINE  220 TRANSLINE   56477.938326   \n",
       "221   Junction Road - Tee A  TRANSLINE  110 TRANSLINE     358.810853   \n",
       "222        OTA-WKM-A1 Cable      CABLE      220 CABLE    6844.023440   \n",
       "223        OTA-WKM-B2 Cable      CABLE      220 CABLE    6813.560443   \n",
       "\n",
       "                                 GlobalID  \\\n",
       "0    96701d10-0b95-479a-b129-fe8ab502e779   \n",
       "1    e439797e-3b56-4ae2-9719-045bf4e715c0   \n",
       "2    db536422-835a-4409-b034-9f2338357667   \n",
       "3    6c77a053-51f2-424e-bb75-f5bef7d33e0f   \n",
       "4    904dbe48-6fa0-4d5f-81f0-ca052de82ba0   \n",
       "..                                    ...   \n",
       "219  001a1115-ce8c-4486-bf54-2801dbf0faaa   \n",
       "220  f98cb8e6-a1ce-4113-821c-ba738aa5a01f   \n",
       "221  ecbe819e-475a-4263-b197-a684d2dc05bc   \n",
       "222  ce922f3c-914c-4a8c-ac23-e0f0ad40f751   \n",
       "223  817afd7b-ec44-47e8-baa5-05285c85c8a5   \n",
       "\n",
       "                                                 SHAPE  \n",
       "0    {\"paths\": [[[1453184.0001, 5298166.0001], [145...  \n",
       "1    {\"paths\": [[[1460324.9491, 5298488.0175], [146...  \n",
       "2    {\"paths\": [[[1482713.0001, 5256887.0001], [148...  \n",
       "3    {\"paths\": [[[1737714.8201, 5930696.9801], [173...  \n",
       "4    {\"paths\": [[[1750911.0001, 5932791.0001], [175...  \n",
       "..                                                 ...  \n",
       "219  {\"paths\": [[[1312296.0001, 4957447.0001], [131...  \n",
       "220  {\"paths\": [[[1870271.9947, 5720206.1761], [187...  \n",
       "221  {\"paths\": [[[1695478.6002, 5669636.1972], [169...  \n",
       "222  {\"paths\": [[[1772120.7377, 5904597.2071], [177...  \n",
       "223  {\"paths\": [[[1772109.0925, 5904576.5721], [177...  \n",
       "\n",
       "[224 rows x 10 columns]"
      ]
     },
     "execution_count": 89,
     "metadata": {},
     "output_type": "execute_result"
    }
   ],
   "source": [
    "lines_df = lines.sdf\n",
    "lines_df"
   ]
  },
  {
   "cell_type": "code",
   "execution_count": 90,
   "metadata": {},
   "outputs": [
    {
     "data": {
      "text/html": [
       "<div>\n",
       "<style scoped>\n",
       "    .dataframe tbody tr th:only-of-type {\n",
       "        vertical-align: middle;\n",
       "    }\n",
       "\n",
       "    .dataframe tbody tr th {\n",
       "        vertical-align: top;\n",
       "    }\n",
       "\n",
       "    .dataframe thead th {\n",
       "        text-align: right;\n",
       "    }\n",
       "</style>\n",
       "<table border=\"1\" class=\"dataframe\">\n",
       "  <thead>\n",
       "    <tr style=\"text-align: right;\">\n",
       "      <th></th>\n",
       "      <th>OBJECTID</th>\n",
       "      <th>MXLOCATION</th>\n",
       "      <th>designvolt</th>\n",
       "      <th>status</th>\n",
       "      <th>description</th>\n",
       "      <th>Symbol</th>\n",
       "      <th>Shape__Length</th>\n",
       "      <th>GlobalID</th>\n",
       "      <th>SHAPE</th>\n",
       "    </tr>\n",
       "    <tr>\n",
       "      <th>type</th>\n",
       "      <th></th>\n",
       "      <th></th>\n",
       "      <th></th>\n",
       "      <th></th>\n",
       "      <th></th>\n",
       "      <th></th>\n",
       "      <th></th>\n",
       "      <th></th>\n",
       "      <th></th>\n",
       "    </tr>\n",
       "  </thead>\n",
       "  <tbody>\n",
       "    <tr>\n",
       "      <th>CABLE</th>\n",
       "      <td>21</td>\n",
       "      <td>21</td>\n",
       "      <td>21</td>\n",
       "      <td>21</td>\n",
       "      <td>20</td>\n",
       "      <td>21</td>\n",
       "      <td>21</td>\n",
       "      <td>21</td>\n",
       "      <td>21</td>\n",
       "    </tr>\n",
       "    <tr>\n",
       "      <th>TRANSLINE</th>\n",
       "      <td>203</td>\n",
       "      <td>203</td>\n",
       "      <td>203</td>\n",
       "      <td>203</td>\n",
       "      <td>203</td>\n",
       "      <td>203</td>\n",
       "      <td>203</td>\n",
       "      <td>203</td>\n",
       "      <td>203</td>\n",
       "    </tr>\n",
       "  </tbody>\n",
       "</table>\n",
       "</div>"
      ],
      "text/plain": [
       "           OBJECTID  MXLOCATION  designvolt  status  description  Symbol  \\\n",
       "type                                                                       \n",
       "CABLE            21          21          21      21           20      21   \n",
       "TRANSLINE       203         203         203     203          203     203   \n",
       "\n",
       "           Shape__Length  GlobalID  SHAPE  \n",
       "type                                       \n",
       "CABLE                 21        21     21  \n",
       "TRANSLINE            203       203    203  "
      ]
     },
     "execution_count": 90,
     "metadata": {},
     "output_type": "execute_result"
    }
   ],
   "source": [
    "lines_df.groupby('type').count()"
   ]
  },
  {
   "cell_type": "code",
   "execution_count": 91,
   "metadata": {},
   "outputs": [
    {
     "data": {
      "text/html": [
       "<div>\n",
       "<style scoped>\n",
       "    .dataframe tbody tr th:only-of-type {\n",
       "        vertical-align: middle;\n",
       "    }\n",
       "\n",
       "    .dataframe tbody tr th {\n",
       "        vertical-align: top;\n",
       "    }\n",
       "\n",
       "    .dataframe thead th {\n",
       "        text-align: right;\n",
       "    }\n",
       "</style>\n",
       "<table border=\"1\" class=\"dataframe\">\n",
       "  <thead>\n",
       "    <tr style=\"text-align: right;\">\n",
       "      <th></th>\n",
       "      <th>OBJECTID</th>\n",
       "      <th>Shape__Length</th>\n",
       "    </tr>\n",
       "  </thead>\n",
       "  <tbody>\n",
       "    <tr>\n",
       "      <th>count</th>\n",
       "      <td>224.000000</td>\n",
       "      <td>224.000000</td>\n",
       "    </tr>\n",
       "    <tr>\n",
       "      <th>mean</th>\n",
       "      <td>149.633929</td>\n",
       "      <td>49788.775354</td>\n",
       "    </tr>\n",
       "    <tr>\n",
       "      <th>std</th>\n",
       "      <td>269.571092</td>\n",
       "      <td>70015.837410</td>\n",
       "    </tr>\n",
       "    <tr>\n",
       "      <th>min</th>\n",
       "      <td>1.000000</td>\n",
       "      <td>358.810853</td>\n",
       "    </tr>\n",
       "    <tr>\n",
       "      <th>25%</th>\n",
       "      <td>57.750000</td>\n",
       "      <td>8334.817851</td>\n",
       "    </tr>\n",
       "    <tr>\n",
       "      <th>50%</th>\n",
       "      <td>113.500000</td>\n",
       "      <td>22336.491216</td>\n",
       "    </tr>\n",
       "    <tr>\n",
       "      <th>75%</th>\n",
       "      <td>178.250000</td>\n",
       "      <td>61580.819263</td>\n",
       "    </tr>\n",
       "    <tr>\n",
       "      <th>max</th>\n",
       "      <td>2299.000000</td>\n",
       "      <td>552374.477489</td>\n",
       "    </tr>\n",
       "  </tbody>\n",
       "</table>\n",
       "</div>"
      ],
      "text/plain": [
       "          OBJECTID  Shape__Length\n",
       "count   224.000000     224.000000\n",
       "mean    149.633929   49788.775354\n",
       "std     269.571092   70015.837410\n",
       "min       1.000000     358.810853\n",
       "25%      57.750000    8334.817851\n",
       "50%     113.500000   22336.491216\n",
       "75%     178.250000   61580.819263\n",
       "max    2299.000000  552374.477489"
      ]
     },
     "execution_count": 91,
     "metadata": {},
     "output_type": "execute_result"
    }
   ],
   "source": [
    "lines_df.describe()"
   ]
  },
  {
   "cell_type": "code",
   "execution_count": 25,
   "metadata": {},
   "outputs": [
    {
     "name": "stderr",
     "output_type": "stream",
     "text": [
      "ERROR:root:Internal Python error in the inspect module.\n",
      "Below is the traceback from this internal error.\n",
      "\n"
     ]
    },
    {
     "name": "stdout",
     "output_type": "stream",
     "text": [
      "Traceback (most recent call last):\n",
      "  File \"C:\\Users\\Benj\\AppData\\Roaming\\Python\\Python37\\site-packages\\IPython\\core\\interactiveshell.py\", line 3331, in run_code\n",
      "    exec(code_obj, self.user_global_ns, self.user_ns)\n",
      "  File \"<ipython-input-25-3671e8916030>\", line 1, in <module>\n",
      "    lines_df.to_csv('./data/lines.csv')\n",
      "NameError: name 'lines_df' is not defined\n",
      "\n",
      "During handling of the above exception, another exception occurred:\n",
      "\n",
      "Traceback (most recent call last):\n",
      "  File \"C:\\Users\\Benj\\AppData\\Roaming\\Python\\Python37\\site-packages\\IPython\\core\\interactiveshell.py\", line 2044, in showtraceback\n",
      "    stb = value._render_traceback_()\n",
      "AttributeError: 'NameError' object has no attribute '_render_traceback_'\n",
      "\n",
      "During handling of the above exception, another exception occurred:\n",
      "\n",
      "Traceback (most recent call last):\n",
      "  File \"C:\\Users\\Benj\\AppData\\Roaming\\Python\\Python37\\site-packages\\IPython\\core\\ultratb.py\", line 1148, in get_records\n",
      "    return _fixed_getinnerframes(etb, number_of_lines_of_context, tb_offset)\n",
      "  File \"C:\\Users\\Benj\\AppData\\Roaming\\Python\\Python37\\site-packages\\IPython\\core\\ultratb.py\", line 316, in wrapped\n",
      "    return f(*args, **kwargs)\n",
      "  File \"C:\\Users\\Benj\\AppData\\Roaming\\Python\\Python37\\site-packages\\IPython\\core\\ultratb.py\", line 350, in _fixed_getinnerframes\n",
      "    records = fix_frame_records_filenames(inspect.getinnerframes(etb, context))\n",
      "  File \"C:\\Users\\Benj\\Anaconda3\\envs\\GIS\\lib\\inspect.py\", line 1502, in getinnerframes\n",
      "    frameinfo = (tb.tb_frame,) + getframeinfo(tb, context)\n",
      "  File \"C:\\Users\\Benj\\Anaconda3\\envs\\GIS\\lib\\inspect.py\", line 1460, in getframeinfo\n",
      "    filename = getsourcefile(frame) or getfile(frame)\n",
      "  File \"C:\\Users\\Benj\\Anaconda3\\envs\\GIS\\lib\\inspect.py\", line 696, in getsourcefile\n",
      "    if getattr(getmodule(object, filename), '__loader__', None) is not None:\n",
      "  File \"C:\\Users\\Benj\\Anaconda3\\envs\\GIS\\lib\\inspect.py\", line 733, in getmodule\n",
      "    if ismodule(module) and hasattr(module, '__file__'):\n",
      "  File \"C:\\Users\\Benj\\AppData\\Roaming\\Python\\Python37\\site-packages\\tensorflow\\__init__.py\", line 50, in __getattr__\n",
      "    module = self._load()\n",
      "  File \"C:\\Users\\Benj\\AppData\\Roaming\\Python\\Python37\\site-packages\\tensorflow\\__init__.py\", line 44, in _load\n",
      "    module = _importlib.import_module(self.__name__)\n",
      "  File \"C:\\Users\\Benj\\Anaconda3\\envs\\GIS\\lib\\importlib\\__init__.py\", line 127, in import_module\n",
      "    return _bootstrap._gcd_import(name[level:], package, level)\n",
      "  File \"<frozen importlib._bootstrap>\", line 1006, in _gcd_import\n",
      "  File \"<frozen importlib._bootstrap>\", line 983, in _find_and_load\n",
      "  File \"<frozen importlib._bootstrap>\", line 953, in _find_and_load_unlocked\n",
      "  File \"<frozen importlib._bootstrap>\", line 219, in _call_with_frames_removed\n",
      "  File \"<frozen importlib._bootstrap>\", line 1006, in _gcd_import\n",
      "  File \"<frozen importlib._bootstrap>\", line 983, in _find_and_load\n",
      "  File \"<frozen importlib._bootstrap>\", line 967, in _find_and_load_unlocked\n",
      "  File \"<frozen importlib._bootstrap>\", line 677, in _load_unlocked\n",
      "  File \"<frozen importlib._bootstrap_external>\", line 728, in exec_module\n",
      "  File \"<frozen importlib._bootstrap>\", line 219, in _call_with_frames_removed\n",
      "  File \"C:\\Users\\Benj\\AppData\\Roaming\\Python\\Python37\\site-packages\\tensorflow_core\\__init__.py\", line 36, in <module>\n",
      "    from tensorflow._api.v1 import compat\n",
      "  File \"C:\\Users\\Benj\\AppData\\Roaming\\Python\\Python37\\site-packages\\tensorflow_core\\_api\\v1\\compat\\__init__.py\", line 23, in <module>\n",
      "    from tensorflow._api.v1.compat import v1\n",
      "  File \"C:\\Users\\Benj\\AppData\\Roaming\\Python\\Python37\\site-packages\\tensorflow_core\\_api\\v1\\compat\\v1\\__init__.py\", line 40, in <module>\n",
      "    from tensorflow._api.v1.compat.v1 import experimental\n",
      "  File \"C:\\Users\\Benj\\AppData\\Roaming\\Python\\Python37\\site-packages\\tensorflow_core\\_api\\v1\\compat\\v1\\experimental\\__init__.py\", line 11, in <module>\n",
      "    from tensorflow.python.ops.control_flow_v2_toggles import output_all_intermediates\n",
      "  File \"C:\\Users\\Benj\\AppData\\Roaming\\Python\\Python37\\site-packages\\tensorflow_core\\python\\ops\\control_flow_v2_toggles.py\", line 24, in <module>\n",
      "    from tensorflow.python.ops import control_flow_util_v2\n",
      "  File \"C:\\Users\\Benj\\AppData\\Roaming\\Python\\Python37\\site-packages\\tensorflow_core\\python\\ops\\control_flow_util_v2.py\", line 28, in <module>\n",
      "    from tensorflow.python.keras.engine import base_layer_utils\n",
      "  File \"C:\\Users\\Benj\\AppData\\Roaming\\Python\\Python37\\site-packages\\tensorflow_core\\python\\keras\\__init__.py\", line 27, in <module>\n",
      "    from tensorflow.python.keras import applications\n",
      "  File \"C:\\Users\\Benj\\AppData\\Roaming\\Python\\Python37\\site-packages\\tensorflow_core\\python\\keras\\applications\\__init__.py\", line 25, in <module>\n",
      "    from tensorflow.python.keras import engine\n",
      "  File \"C:\\Users\\Benj\\AppData\\Roaming\\Python\\Python37\\site-packages\\tensorflow_core\\python\\keras\\engine\\__init__.py\", line 23, in <module>\n",
      "    from tensorflow.python.keras.engine.base_layer import Layer\n",
      "  File \"C:\\Users\\Benj\\AppData\\Roaming\\Python\\Python37\\site-packages\\tensorflow_core\\python\\keras\\engine\\base_layer.py\", line 58, in <module>\n",
      "    from tensorflow.python.keras.saving.saved_model import save as saved_model\n",
      "  File \"C:\\Users\\Benj\\AppData\\Roaming\\Python\\Python37\\site-packages\\tensorflow_core\\python\\keras\\saving\\__init__.py\", line 20, in <module>\n",
      "    from tensorflow.python.keras.saving.hdf5_format import load_attributes_from_hdf5_group\n",
      "  File \"C:\\Users\\Benj\\AppData\\Roaming\\Python\\Python37\\site-packages\\tensorflow_core\\python\\keras\\saving\\hdf5_format.py\", line 32, in <module>\n",
      "    from tensorflow.python.keras.utils import conv_utils\n",
      "  File \"C:\\Users\\Benj\\AppData\\Roaming\\Python\\Python37\\site-packages\\tensorflow_core\\python\\keras\\utils\\__init__.py\", line 38, in <module>\n",
      "    from tensorflow.python.keras.utils.multi_gpu_utils import multi_gpu_model\n",
      "  File \"C:\\Users\\Benj\\AppData\\Roaming\\Python\\Python37\\site-packages\\tensorflow_core\\python\\keras\\utils\\multi_gpu_utils.py\", line 22, in <module>\n",
      "    from tensorflow.python.keras.engine.training import Model\n",
      "  File \"C:\\Users\\Benj\\AppData\\Roaming\\Python\\Python37\\site-packages\\tensorflow_core\\python\\keras\\engine\\training.py\", line 42, in <module>\n",
      "    from tensorflow.python.keras import metrics as metrics_module\n",
      "  File \"C:\\Users\\Benj\\AppData\\Roaming\\Python\\Python37\\site-packages\\tensorflow_core\\python\\keras\\metrics.py\", line 34, in <module>\n",
      "    from tensorflow.python.keras.engine.base_layer import Layer\n",
      "ImportError: cannot import name 'Layer' from 'tensorflow.python.keras.engine.base_layer' (C:\\Users\\Benj\\AppData\\Roaming\\Python\\Python37\\site-packages\\tensorflow_core\\python\\keras\\engine\\base_layer.py)\n"
     ]
    },
    {
     "ename": "NameError",
     "evalue": "name 'lines_df' is not defined",
     "output_type": "error",
     "traceback": [
      "\u001b[1;31m---------------------------------------------------------------------------\u001b[0m"
     ]
    }
   ],
   "source": [
    "lines_df.to_csv('./data/lines.csv')"
   ]
  },
  {
   "cell_type": "markdown",
   "metadata": {},
   "source": [
    "## Sites"
   ]
  },
  {
   "cell_type": "code",
   "execution_count": 17,
   "metadata": {},
   "outputs": [],
   "source": [
    "# sites\n",
    "sites_layer = sites_item.layers[0]"
   ]
  },
  {
   "cell_type": "code",
   "execution_count": 19,
   "metadata": {},
   "outputs": [],
   "source": [
    "sites_df = sites_layer.query().sdf"
   ]
  },
  {
   "cell_type": "code",
   "execution_count": 20,
   "metadata": {},
   "outputs": [
    {
     "data": {
      "text/html": [
       "<div>\n",
       "<style scoped>\n",
       "    .dataframe tbody tr th:only-of-type {\n",
       "        vertical-align: middle;\n",
       "    }\n",
       "\n",
       "    .dataframe tbody tr th {\n",
       "        vertical-align: top;\n",
       "    }\n",
       "\n",
       "    .dataframe thead th {\n",
       "        text-align: right;\n",
       "    }\n",
       "</style>\n",
       "<table border=\"1\" class=\"dataframe\">\n",
       "  <thead>\n",
       "    <tr style=\"text-align: right;\">\n",
       "      <th></th>\n",
       "      <th>OBJECTID</th>\n",
       "      <th>MXLOCATION</th>\n",
       "      <th>type</th>\n",
       "      <th>status</th>\n",
       "      <th>description</th>\n",
       "      <th>GlobalID</th>\n",
       "      <th>SHAPE</th>\n",
       "    </tr>\n",
       "  </thead>\n",
       "  <tbody>\n",
       "    <tr>\n",
       "      <th>0</th>\n",
       "      <td>1</td>\n",
       "      <td>ALB</td>\n",
       "      <td>ACSTN</td>\n",
       "      <td>COMMISSIONED</td>\n",
       "      <td>Albany</td>\n",
       "      <td>33139fc0-d234-4d39-b830-4d99d2bf4a7a</td>\n",
       "      <td>{\"x\": 1750929.0000999998, \"y\": 5932699.0001, \"...</td>\n",
       "    </tr>\n",
       "    <tr>\n",
       "      <th>1</th>\n",
       "      <td>2</td>\n",
       "      <td>APS</td>\n",
       "      <td>ACSTN</td>\n",
       "      <td>COMMISSIONED</td>\n",
       "      <td>Arthurs Pass</td>\n",
       "      <td>01de4caf-60df-428a-8c17-c825b41ccdea</td>\n",
       "      <td>{\"x\": 1483256.0000999998, \"y\": 5243850.0001, \"...</td>\n",
       "    </tr>\n",
       "    <tr>\n",
       "      <th>2</th>\n",
       "      <td>3</td>\n",
       "      <td>ARA</td>\n",
       "      <td>ACSTN</td>\n",
       "      <td>COMMISSIONED</td>\n",
       "      <td>Aratiatia</td>\n",
       "      <td>a73e54b3-3587-4cee-a298-ae25174e1cea</td>\n",
       "      <td>{\"x\": 1873657.0000999998, \"y\": 5721161.0001, \"...</td>\n",
       "    </tr>\n",
       "    <tr>\n",
       "      <th>3</th>\n",
       "      <td>4</td>\n",
       "      <td>ARG</td>\n",
       "      <td>ACSTN</td>\n",
       "      <td>COMMISSIONED</td>\n",
       "      <td>Argyle</td>\n",
       "      <td>829bc502-619f-445d-9191-51cbb7b650ca</td>\n",
       "      <td>{\"x\": 1616837.0000999998, \"y\": 5386748.0001, \"...</td>\n",
       "    </tr>\n",
       "    <tr>\n",
       "      <th>4</th>\n",
       "      <td>5</td>\n",
       "      <td>ARI</td>\n",
       "      <td>ACSTN</td>\n",
       "      <td>COMMISSIONED</td>\n",
       "      <td>Arapuni</td>\n",
       "      <td>aa066047-a488-4f3e-9a8d-5fa6cc0bb02f</td>\n",
       "      <td>{\"x\": 1831847.0000999998, \"y\": 5782925.0001, \"...</td>\n",
       "    </tr>\n",
       "  </tbody>\n",
       "</table>\n",
       "</div>"
      ],
      "text/plain": [
       "   OBJECTID MXLOCATION   type        status   description  \\\n",
       "0         1        ALB  ACSTN  COMMISSIONED        Albany   \n",
       "1         2        APS  ACSTN  COMMISSIONED  Arthurs Pass   \n",
       "2         3        ARA  ACSTN  COMMISSIONED     Aratiatia   \n",
       "3         4        ARG  ACSTN  COMMISSIONED        Argyle   \n",
       "4         5        ARI  ACSTN  COMMISSIONED       Arapuni   \n",
       "\n",
       "                               GlobalID  \\\n",
       "0  33139fc0-d234-4d39-b830-4d99d2bf4a7a   \n",
       "1  01de4caf-60df-428a-8c17-c825b41ccdea   \n",
       "2  a73e54b3-3587-4cee-a298-ae25174e1cea   \n",
       "3  829bc502-619f-445d-9191-51cbb7b650ca   \n",
       "4  aa066047-a488-4f3e-9a8d-5fa6cc0bb02f   \n",
       "\n",
       "                                               SHAPE  \n",
       "0  {\"x\": 1750929.0000999998, \"y\": 5932699.0001, \"...  \n",
       "1  {\"x\": 1483256.0000999998, \"y\": 5243850.0001, \"...  \n",
       "2  {\"x\": 1873657.0000999998, \"y\": 5721161.0001, \"...  \n",
       "3  {\"x\": 1616837.0000999998, \"y\": 5386748.0001, \"...  \n",
       "4  {\"x\": 1831847.0000999998, \"y\": 5782925.0001, \"...  "
      ]
     },
     "execution_count": 20,
     "metadata": {},
     "output_type": "execute_result"
    }
   ],
   "source": [
    "sites_df.head()"
   ]
  },
  {
   "cell_type": "code",
   "execution_count": 21,
   "metadata": {},
   "outputs": [
    {
     "data": {
      "text/html": [
       "<div>\n",
       "<style scoped>\n",
       "    .dataframe tbody tr th:only-of-type {\n",
       "        vertical-align: middle;\n",
       "    }\n",
       "\n",
       "    .dataframe tbody tr th {\n",
       "        vertical-align: top;\n",
       "    }\n",
       "\n",
       "    .dataframe thead th {\n",
       "        text-align: right;\n",
       "    }\n",
       "</style>\n",
       "<table border=\"1\" class=\"dataframe\">\n",
       "  <thead>\n",
       "    <tr style=\"text-align: right;\">\n",
       "      <th></th>\n",
       "      <th>OBJECTID</th>\n",
       "      <th>MXLOCATION</th>\n",
       "      <th>status</th>\n",
       "      <th>description</th>\n",
       "      <th>GlobalID</th>\n",
       "      <th>SHAPE</th>\n",
       "    </tr>\n",
       "    <tr>\n",
       "      <th>type</th>\n",
       "      <th></th>\n",
       "      <th></th>\n",
       "      <th></th>\n",
       "      <th></th>\n",
       "      <th></th>\n",
       "      <th></th>\n",
       "    </tr>\n",
       "  </thead>\n",
       "  <tbody>\n",
       "    <tr>\n",
       "      <th>ACSTN</th>\n",
       "      <td>181</td>\n",
       "      <td>181</td>\n",
       "      <td>181</td>\n",
       "      <td>181</td>\n",
       "      <td>181</td>\n",
       "      <td>181</td>\n",
       "    </tr>\n",
       "    <tr>\n",
       "      <th>HVDC</th>\n",
       "      <td>6</td>\n",
       "      <td>6</td>\n",
       "      <td>6</td>\n",
       "      <td>6</td>\n",
       "      <td>6</td>\n",
       "      <td>6</td>\n",
       "    </tr>\n",
       "    <tr>\n",
       "      <th>OTHER</th>\n",
       "      <td>1</td>\n",
       "      <td>1</td>\n",
       "      <td>1</td>\n",
       "      <td>1</td>\n",
       "      <td>1</td>\n",
       "      <td>1</td>\n",
       "    </tr>\n",
       "    <tr>\n",
       "      <th>TEE</th>\n",
       "      <td>29</td>\n",
       "      <td>29</td>\n",
       "      <td>29</td>\n",
       "      <td>29</td>\n",
       "      <td>29</td>\n",
       "      <td>29</td>\n",
       "    </tr>\n",
       "  </tbody>\n",
       "</table>\n",
       "</div>"
      ],
      "text/plain": [
       "       OBJECTID  MXLOCATION  status  description  GlobalID  SHAPE\n",
       "type                                                             \n",
       "ACSTN       181         181     181          181       181    181\n",
       "HVDC          6           6       6            6         6      6\n",
       "OTHER         1           1       1            1         1      1\n",
       "TEE          29          29      29           29        29     29"
      ]
     },
     "execution_count": 21,
     "metadata": {},
     "output_type": "execute_result"
    }
   ],
   "source": [
    "sites_df.groupby('type').count()"
   ]
  },
  {
   "cell_type": "code",
   "execution_count": null,
   "metadata": {},
   "outputs": [],
   "source": []
  },
  {
   "cell_type": "code",
   "execution_count": null,
   "metadata": {},
   "outputs": [],
   "source": []
  },
  {
   "cell_type": "code",
   "execution_count": null,
   "metadata": {},
   "outputs": [],
   "source": []
  },
  {
   "cell_type": "code",
   "execution_count": null,
   "metadata": {},
   "outputs": [],
   "source": []
  },
  {
   "cell_type": "code",
   "execution_count": null,
   "metadata": {},
   "outputs": [],
   "source": []
  },
  {
   "cell_type": "markdown",
   "metadata": {},
   "source": [
    "## LINZ search"
   ]
  },
  {
   "cell_type": "code",
   "execution_count": 42,
   "metadata": {
    "scrolled": true
   },
   "outputs": [
    {
     "data": {
      "text/html": [
       "<div class=\"item_container\" style=\"height: auto; overflow: hidden; border: 1px solid #cfcfcf; border-radius: 2px; background: #f6fafa; line-height: 1.21429em; padding: 10px;\">\n",
       "                    <div class=\"item_left\" style=\"width: 210px; float: left;\">\n",
       "                       <a href='https://www.arcgis.com/home/item.html?id=840ef2a13a2a4f34b7895c9616638dee' target='_blank'>\n",
       "                        <img src='https://www.arcgis.com/sharing/rest//content/items/840ef2a13a2a4f34b7895c9616638dee/info/thumbnail/thumbnail1589607016717.jpeg' class=\"itemThumbnail\">\n",
       "                       </a>\n",
       "                    </div>\n",
       "\n",
       "                    <div class=\"item_right\"     style=\"float: none; width: auto; overflow: hidden;\">\n",
       "                        <a href='https://www.arcgis.com/home/item.html?id=840ef2a13a2a4f34b7895c9616638dee' target='_blank'><b>LINZ NZ Primary Parcels</b>\n",
       "                        </a>\n",
       "                        <br/>Current primary parcel polygons and some associated descriptive data that details the appellation (legal description), purpose, size and a list of titles that have an interest in the parcel.<img src='https://www.arcgis.com/home/js/jsapi/esri/css/images/item_type_icons/featureshosted16.png' style=\"vertical-align:middle;\">Feature Layer Collection by administrator_basedatanz\n",
       "                        <br/>Last Modified: mai 16, 2020\n",
       "                        <br/>0 comments, 2 321 views\n",
       "                    </div>\n",
       "                </div>\n",
       "                "
      ],
      "text/plain": [
       "<Item title:\"LINZ NZ Primary Parcels\" type:Feature Layer Collection owner:administrator_basedatanz>"
      ]
     },
     "metadata": {},
     "output_type": "display_data"
    },
    {
     "data": {
      "text/html": [
       "<div class=\"item_container\" style=\"height: auto; overflow: hidden; border: 1px solid #cfcfcf; border-radius: 2px; background: #f6fafa; line-height: 1.21429em; padding: 10px;\">\n",
       "                    <div class=\"item_left\" style=\"width: 210px; float: left;\">\n",
       "                       <a href='https://www.arcgis.com/home/item.html?id=bafb0e414bde45479e229798b1b8433d' target='_blank'>\n",
       "                        <img src='https://www.arcgis.com/sharing/rest//content/items/bafb0e414bde45479e229798b1b8433d/info/thumbnail/thumbnail1583138107399.jpeg' class=\"itemThumbnail\">\n",
       "                       </a>\n",
       "                    </div>\n",
       "\n",
       "                    <div class=\"item_right\"     style=\"float: none; width: auto; overflow: hidden;\">\n",
       "                        <a href='https://www.arcgis.com/home/item.html?id=bafb0e414bde45479e229798b1b8433d' target='_blank'><b>LINZ NZ River Name Lines - Pilot</b>\n",
       "                        </a>\n",
       "                        <br/>Provides river name lines for mainland New Zealand. It is part of a pilot to understand the benefit of combining river names and location, and making these openly available through the LINZ Data Service.<img src='https://www.arcgis.com/home/js/jsapi/esri/css/images/item_type_icons/featureshosted16.png' style=\"vertical-align:middle;\">Feature Layer Collection by administrator_basedatanz\n",
       "                        <br/>Last Modified: mars 13, 2020\n",
       "                        <br/>0 comments, 3 288 views\n",
       "                    </div>\n",
       "                </div>\n",
       "                "
      ],
      "text/plain": [
       "<Item title:\"LINZ NZ River Name Lines - Pilot\" type:Feature Layer Collection owner:administrator_basedatanz>"
      ]
     },
     "metadata": {},
     "output_type": "display_data"
    },
    {
     "data": {
      "text/html": [
       "<div class=\"item_container\" style=\"height: auto; overflow: hidden; border: 1px solid #cfcfcf; border-radius: 2px; background: #f6fafa; line-height: 1.21429em; padding: 10px;\">\n",
       "                    <div class=\"item_left\" style=\"width: 210px; float: left;\">\n",
       "                       <a href='https://www.arcgis.com/home/item.html?id=c2e9e61f55a245978c0bd64558553101' target='_blank'>\n",
       "                        <img src='https://www.arcgis.com/sharing/rest//content/items/c2e9e61f55a245978c0bd64558553101/info/thumbnail/thumbnail1584685888242.jpeg' class=\"itemThumbnail\">\n",
       "                       </a>\n",
       "                    </div>\n",
       "\n",
       "                    <div class=\"item_right\"     style=\"float: none; width: auto; overflow: hidden;\">\n",
       "                        <a href='https://www.arcgis.com/home/item.html?id=c2e9e61f55a245978c0bd64558553101' target='_blank'><b>LINZ NZ Building Outlines</b>\n",
       "                        </a>\n",
       "                        <br/>Provides current outlines of buildings within mainland New Zealand captured from the latest aerial imagery. A building outline is a 2D representation of the roof outline of a building which has been classified from LINZ aerial imagery.<img src='https://www.arcgis.com/home/js/jsapi/esri/css/images/item_type_icons/featureshosted16.png' style=\"vertical-align:middle;\">Feature Layer Collection by administrator_basedatanz\n",
       "                        <br/>Last Modified: mars 20, 2020\n",
       "                        <br/>0 comments, 1 780 views\n",
       "                    </div>\n",
       "                </div>\n",
       "                "
      ],
      "text/plain": [
       "<Item title:\"LINZ NZ Building Outlines\" type:Feature Layer Collection owner:administrator_basedatanz>"
      ]
     },
     "metadata": {},
     "output_type": "display_data"
    },
    {
     "data": {
      "text/html": [
       "<div class=\"item_container\" style=\"height: auto; overflow: hidden; border: 1px solid #cfcfcf; border-radius: 2px; background: #f6fafa; line-height: 1.21429em; padding: 10px;\">\n",
       "                    <div class=\"item_left\" style=\"width: 210px; float: left;\">\n",
       "                       <a href='https://www.arcgis.com/home/item.html?id=c85623183a504bd38653f3a826b622a7' target='_blank'>\n",
       "                        <img src='https://www.arcgis.com/sharing/rest//content/items/c85623183a504bd38653f3a826b622a7/info/thumbnail/thumbnail1583393063741.jpeg' class=\"itemThumbnail\">\n",
       "                       </a>\n",
       "                    </div>\n",
       "\n",
       "                    <div class=\"item_right\"     style=\"float: none; width: auto; overflow: hidden;\">\n",
       "                        <a href='https://www.arcgis.com/home/item.html?id=c85623183a504bd38653f3a826b622a7' target='_blank'><b>LINZ NZ Street Address</b>\n",
       "                        </a>\n",
       "                        <br/>This layer provides all allocated addresses as advised to LINZ by Territorial Authorities (TAs). Under the Local Government Act 1974 (section 319) it is the responsibility of the TAs to advise LINZ (the Survey or General) of all allocated addresses in their district.<img src='https://www.arcgis.com/home/js/jsapi/esri/css/images/item_type_icons/featureshosted16.png' style=\"vertical-align:middle;\">Feature Layer Collection by administrator_basedatanz\n",
       "                        <br/>Last Modified: mars 13, 2020\n",
       "                        <br/>0 comments, 2 843 views\n",
       "                    </div>\n",
       "                </div>\n",
       "                "
      ],
      "text/plain": [
       "<Item title:\"LINZ NZ Street Address\" type:Feature Layer Collection owner:administrator_basedatanz>"
      ]
     },
     "metadata": {},
     "output_type": "display_data"
    },
    {
     "data": {
      "text/html": [
       "<div class=\"item_container\" style=\"height: auto; overflow: hidden; border: 1px solid #cfcfcf; border-radius: 2px; background: #f6fafa; line-height: 1.21429em; padding: 10px;\">\n",
       "                    <div class=\"item_left\" style=\"width: 210px; float: left;\">\n",
       "                       <a href='https://www.arcgis.com/home/item.html?id=3b4ed8eadb8241989056bdb909d1a9c6' target='_blank'>\n",
       "                        <img src='https://www.arcgis.com/sharing/rest//content/items/3b4ed8eadb8241989056bdb909d1a9c6/info/thumbnail/thumbnail1583138147987.jpeg' class=\"itemThumbnail\">\n",
       "                       </a>\n",
       "                    </div>\n",
       "\n",
       "                    <div class=\"item_right\"     style=\"float: none; width: auto; overflow: hidden;\">\n",
       "                        <a href='https://www.arcgis.com/home/item.html?id=3b4ed8eadb8241989056bdb909d1a9c6' target='_blank'><b>LINZ NZ Coastlines and Islands Polygons - Topo 1:50k</b>\n",
       "                        </a>\n",
       "                        <br/>Provides a polygon coastline and islands layer which is based on the Topo50 products.<img src='https://www.arcgis.com/home/js/jsapi/esri/css/images/item_type_icons/featureshosted16.png' style=\"vertical-align:middle;\">Feature Layer Collection by administrator_basedatanz\n",
       "                        <br/>Last Modified: mars 13, 2020\n",
       "                        <br/>0 comments, 1 438 views\n",
       "                    </div>\n",
       "                </div>\n",
       "                "
      ],
      "text/plain": [
       "<Item title:\"LINZ NZ Coastlines and Islands Polygons - Topo 1:50k\" type:Feature Layer Collection owner:administrator_basedatanz>"
      ]
     },
     "metadata": {},
     "output_type": "display_data"
    },
    {
     "data": {
      "text/html": [
       "<div class=\"item_container\" style=\"height: auto; overflow: hidden; border: 1px solid #cfcfcf; border-radius: 2px; background: #f6fafa; line-height: 1.21429em; padding: 10px;\">\n",
       "                    <div class=\"item_left\" style=\"width: 210px; float: left;\">\n",
       "                       <a href='https://www.arcgis.com/home/item.html?id=a86a2b08ebeb415482eb85f8f64bdeef' target='_blank'>\n",
       "                        <img src='https://www.arcgis.com/sharing/rest//content/items/a86a2b08ebeb415482eb85f8f64bdeef/info/thumbnail/thumbnail1583138095258.jpeg' class=\"itemThumbnail\">\n",
       "                       </a>\n",
       "                    </div>\n",
       "\n",
       "                    <div class=\"item_right\"     style=\"float: none; width: auto; overflow: hidden;\">\n",
       "                        <a href='https://www.arcgis.com/home/item.html?id=a86a2b08ebeb415482eb85f8f64bdeef' target='_blank'><b>LINZ NZ River Name Polygons - Pilot</b>\n",
       "                        </a>\n",
       "                        <br/>Provides river name polygons for mainland New Zealand. It is part of a pilot to understand the benefit of combining river names and location, and making these openly available through the LINZ Data Service.<img src='https://www.arcgis.com/home/js/jsapi/esri/css/images/item_type_icons/featureshosted16.png' style=\"vertical-align:middle;\">Feature Layer Collection by administrator_basedatanz\n",
       "                        <br/>Last Modified: mars 13, 2020\n",
       "                        <br/>0 comments, 4 408 views\n",
       "                    </div>\n",
       "                </div>\n",
       "                "
      ],
      "text/plain": [
       "<Item title:\"LINZ NZ River Name Polygons - Pilot\" type:Feature Layer Collection owner:administrator_basedatanz>"
      ]
     },
     "metadata": {},
     "output_type": "display_data"
    },
    {
     "data": {
      "text/html": [
       "<div class=\"item_container\" style=\"height: auto; overflow: hidden; border: 1px solid #cfcfcf; border-radius: 2px; background: #f6fafa; line-height: 1.21429em; padding: 10px;\">\n",
       "                    <div class=\"item_left\" style=\"width: 210px; float: left;\">\n",
       "                       <a href='https://www.arcgis.com/home/item.html?id=3308c9fd16ae4416bdaac9efea1310cf' target='_blank'>\n",
       "                        <img src='https://www.arcgis.com/sharing/rest//content/items/3308c9fd16ae4416bdaac9efea1310cf/info/thumbnail/thumbnail1583138036379.jpeg' class=\"itemThumbnail\">\n",
       "                       </a>\n",
       "                    </div>\n",
       "\n",
       "                    <div class=\"item_right\"     style=\"float: none; width: auto; overflow: hidden;\">\n",
       "                        <a href='https://www.arcgis.com/home/item.html?id=3308c9fd16ae4416bdaac9efea1310cf' target='_blank'><b>LINZ NZ Roads - Addressing</b>\n",
       "                        </a>\n",
       "                        <br/>This layer provides linear geometries against which official road names and street addresses can be recorded. Its purpose is also to enable automated meshblock address reports (for electoral and statistical purposes) so as to identify the presence of a road name in meshblocks where street addresses do not exist.<img src='https://www.arcgis.com/home/js/jsapi/esri/css/images/item_type_icons/featureshosted16.png' style=\"vertical-align:middle;\">Feature Layer Collection by administrator_basedatanz\n",
       "                        <br/>Last Modified: mars 13, 2020\n",
       "                        <br/>0 comments, 2 262 views\n",
       "                    </div>\n",
       "                </div>\n",
       "                "
      ],
      "text/plain": [
       "<Item title:\"LINZ NZ Roads - Addressing\" type:Feature Layer Collection owner:administrator_basedatanz>"
      ]
     },
     "metadata": {},
     "output_type": "display_data"
    },
    {
     "data": {
      "text/html": [
       "<div class=\"item_container\" style=\"height: auto; overflow: hidden; border: 1px solid #cfcfcf; border-radius: 2px; background: #f6fafa; line-height: 1.21429em; padding: 10px;\">\n",
       "                    <div class=\"item_left\" style=\"width: 210px; float: left;\">\n",
       "                       <a href='https://www.arcgis.com/home/item.html?id=061950bb49584134af3d33484649b115' target='_blank'>\n",
       "                        <img src='https://www.arcgis.com/sharing/rest//content/items/061950bb49584134af3d33484649b115/info/thumbnail/thumbnail1583138082049.jpeg' class=\"itemThumbnail\">\n",
       "                       </a>\n",
       "                    </div>\n",
       "\n",
       "                    <div class=\"item_right\"     style=\"float: none; width: auto; overflow: hidden;\">\n",
       "                        <a href='https://www.arcgis.com/home/item.html?id=061950bb49584134af3d33484649b115' target='_blank'><b>LINZ Managed Crown Property</b>\n",
       "                        </a>\n",
       "                        <br/>Includes all Crown Land and Properties managed by LINZ which have been identified spatially and can include properties managed by LINZ on behalf of other agencies.<img src='https://www.arcgis.com/home/js/jsapi/esri/css/images/item_type_icons/featureshosted16.png' style=\"vertical-align:middle;\">Feature Layer Collection by administrator_basedatanz\n",
       "                        <br/>Last Modified: mars 13, 2020\n",
       "                        <br/>0 comments, 1 353 views\n",
       "                    </div>\n",
       "                </div>\n",
       "                "
      ],
      "text/plain": [
       "<Item title:\"LINZ Managed Crown Property\" type:Feature Layer Collection owner:administrator_basedatanz>"
      ]
     },
     "metadata": {},
     "output_type": "display_data"
    },
    {
     "data": {
      "text/html": [
       "<div class=\"item_container\" style=\"height: auto; overflow: hidden; border: 1px solid #cfcfcf; border-radius: 2px; background: #f6fafa; line-height: 1.21429em; padding: 10px;\">\n",
       "                    <div class=\"item_left\" style=\"width: 210px; float: left;\">\n",
       "                       <a href='https://www.arcgis.com/home/item.html?id=a3da4c3267b84323bf8fd7dfd08da5ed' target='_blank'>\n",
       "                        <img src='http://static.arcgis.com/images/desktopapp.png' class=\"itemThumbnail\">\n",
       "                       </a>\n",
       "                    </div>\n",
       "\n",
       "                    <div class=\"item_right\"     style=\"float: none; width: auto; overflow: hidden;\">\n",
       "                        <a href='https://www.arcgis.com/home/item.html?id=a3da4c3267b84323bf8fd7dfd08da5ed' target='_blank'><b>LINZ NZ Property Titles</b>\n",
       "                        </a>\n",
       "                        <br/>Provides title information (excluding ownership) where there is a relationship to one or more primary parcels. A Record of Title is a record of a property's owners, legal description and the rights and responsibilities registered against the title.<img src='https://www.arcgis.com/home/js/jsapi/esri/css/images/item_type_icons/featureshosted16.png' style=\"vertical-align:middle;\">Feature Layer Collection by administrator_basedatanz\n",
       "                        <br/>Last Modified: mai 16, 2020\n",
       "                        <br/>0 comments, 3 165 views\n",
       "                    </div>\n",
       "                </div>\n",
       "                "
      ],
      "text/plain": [
       "<Item title:\"LINZ NZ Property Titles\" type:Feature Layer Collection owner:administrator_basedatanz>"
      ]
     },
     "metadata": {},
     "output_type": "display_data"
    },
    {
     "data": {
      "text/html": [
       "<div class=\"item_container\" style=\"height: auto; overflow: hidden; border: 1px solid #cfcfcf; border-radius: 2px; background: #f6fafa; line-height: 1.21429em; padding: 10px;\">\n",
       "                    <div class=\"item_left\" style=\"width: 210px; float: left;\">\n",
       "                       <a href='https://www.arcgis.com/home/item.html?id=2e309ca3629b4c62abf5688829d81eb9' target='_blank'>\n",
       "                        <img src='https://www.arcgis.com/sharing/rest//content/items/2e309ca3629b4c62abf5688829d81eb9/info/thumbnail/thumbnail.png' class=\"itemThumbnail\">\n",
       "                       </a>\n",
       "                    </div>\n",
       "\n",
       "                    <div class=\"item_right\"     style=\"float: none; width: auto; overflow: hidden;\">\n",
       "                        <a href='https://www.arcgis.com/home/item.html?id=2e309ca3629b4c62abf5688829d81eb9' target='_blank'><b>Map1_WFL1</b>\n",
       "                        </a>\n",
       "                        <br/>hh media <img src='https://www.arcgis.com/home/js/jsapi/esri/css/images/item_type_icons/featureshosted16.png' style=\"vertical-align:middle;\">Feature Layer Collection by P19_Buckley\n",
       "                        <br/>Last Modified: avril 10, 2019\n",
       "                        <br/>0 comments, 16 views\n",
       "                    </div>\n",
       "                </div>\n",
       "                "
      ],
      "text/plain": [
       "<Item title:\"Map1_WFL1\" type:Feature Layer Collection owner:P19_Buckley>"
      ]
     },
     "metadata": {},
     "output_type": "display_data"
    }
   ],
   "source": [
    "linz_search = gis.content.search('linz', item_type=\"Feature *\")\n",
    "for item in linz_search:\n",
    "    display(item)"
   ]
  },
  {
   "cell_type": "code",
   "execution_count": null,
   "metadata": {},
   "outputs": [],
   "source": []
  },
  {
   "cell_type": "code",
   "execution_count": null,
   "metadata": {},
   "outputs": [],
   "source": []
  },
  {
   "cell_type": "code",
   "execution_count": null,
   "metadata": {},
   "outputs": [],
   "source": []
  },
  {
   "cell_type": "code",
   "execution_count": null,
   "metadata": {},
   "outputs": [],
   "source": []
  },
  {
   "cell_type": "code",
   "execution_count": null,
   "metadata": {},
   "outputs": [],
   "source": []
  },
  {
   "cell_type": "code",
   "execution_count": null,
   "metadata": {},
   "outputs": [],
   "source": []
  },
  {
   "cell_type": "code",
   "execution_count": null,
   "metadata": {},
   "outputs": [],
   "source": []
  },
  {
   "cell_type": "code",
   "execution_count": null,
   "metadata": {},
   "outputs": [],
   "source": []
  }
 ],
 "metadata": {
  "kernelspec": {
   "display_name": "Python 3",
   "language": "python",
   "name": "python3"
  },
  "language_info": {
   "codemirror_mode": {
    "name": "ipython",
    "version": 3
   },
   "file_extension": ".py",
   "mimetype": "text/x-python",
   "name": "python",
   "nbconvert_exporter": "python",
   "pygments_lexer": "ipython3",
   "version": "3.7.7"
  }
 },
 "nbformat": 4,
 "nbformat_minor": 4
}
